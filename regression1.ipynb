{
 "cells": [
  {
   "cell_type": "markdown",
   "id": "2a311d84-04f8-4028-99ef-97f377c39d4a",
   "metadata": {},
   "source": [
    "Q1. Explain the difference between simple linear regression and multiple linear regression. Provide an\n",
    "example of each."
   ]
  },
  {
   "cell_type": "code",
   "execution_count": null,
   "id": "6aa31f3b-a9f3-42ce-83a1-5e56115667ee",
   "metadata": {},
   "outputs": [],
   "source": [
    "Ans:-\n",
    "\n",
    "i.simple linear reg------->In which one is dependent variable(y) & one is independent variable(x).\n",
    "ex----->y=mx+c.      ( where c is constant )\n",
    "\n",
    "ii.Miutiple linear reg------->In which one is dependent variable(y) & more than one is independent variable(x).\n",
    "ex------>y=m1*x1+m2*x2+m3*x3+c         ( where c is constant)\n"
   ]
  },
  {
   "cell_type": "markdown",
   "id": "48ccd6c9-b3e2-458c-92d8-ae7c25a18e16",
   "metadata": {},
   "source": [
    "Q2. Discuss the assumptions of linear regression. How can you check whether these assumptions hold in\n",
    "a given dataset?"
   ]
  },
  {
   "cell_type": "code",
   "execution_count": null,
   "id": "ac0abbc3-ad65-45fb-aec5-6266a765b160",
   "metadata": {},
   "outputs": [],
   "source": [
    "Ans:-\n",
    "i.outlier detection\n",
    "ii.Model fit Evaluation\n",
    "iii.Independence\n",
    "iv.Linearity"
   ]
  },
  {
   "cell_type": "markdown",
   "id": "7c815ba8-6a69-4261-94c4-fdd87ccf3cc5",
   "metadata": {},
   "source": [
    "Q3. How do you interpret the slope and intercept in a linear regression model? Provide an example using\n",
    "a real-world scenario."
   ]
  },
  {
   "cell_type": "code",
   "execution_count": null,
   "id": "cf5d0355-aead-49ee-8d22-ca4350431dae",
   "metadata": {},
   "outputs": [],
   "source": [
    "Ans:-If the value canstant is 0 it will give best fit line to min error between actual & predicted value.\n",
    "     In Linear Regression.The velue of constant may be or may not be varies."
   ]
  },
  {
   "cell_type": "markdown",
   "id": "fa98aeb6-1779-40c4-92a2-b8714304a82d",
   "metadata": {},
   "source": [
    "Q4. Explain the concept of gradient descent. How is it used in machine learning?"
   ]
  },
  {
   "cell_type": "code",
   "execution_count": null,
   "id": "bbb384f1-c25d-438c-b7a1-1b02435f523b",
   "metadata": {},
   "outputs": [],
   "source": [
    "Ans:-Gradient Desend is an optimization algorithm to reduce the loss fiunction.\n",
    "     Gradient Descent is algorithm that fits best fit line-----> Machine Learning."
   ]
  },
  {
   "cell_type": "markdown",
   "id": "2bc7ab9d-2647-4e98-a10f-ff3a60de0cf3",
   "metadata": {},
   "source": [
    "Q5. Describe the multiple linear regression model. How does it differ from simple linear regression?"
   ]
  },
  {
   "cell_type": "code",
   "execution_count": null,
   "id": "a3e1bf9c-73be-433a-b8f9-25533796917f",
   "metadata": {},
   "outputs": [],
   "source": [
    "Ans:- Mutiple linear regresssion is nothing but it is a linear regression.\n",
    "\n",
    "      The main diff. between mlr & slr is--->\n",
    "    \n",
    "In slr  one is dependent variable(y) & one is independent variable(x).--->ex----->y=mx+c. ( where c is constant )\n",
    "In  mlr one is dependent variable(y) & more than one is independent variable(x)->e-->y=m1*x1+m2*x2+m3*x3+c ( where c is constant)\n",
    "      "
   ]
  },
  {
   "cell_type": "markdown",
   "id": "0a5e8581-5b1f-4967-bfc2-985d8879bc57",
   "metadata": {},
   "source": [
    "Q6. Explain the concept of multicollinearity in multiple linear regression. How can you detect and\n",
    "address this issue?"
   ]
  },
  {
   "cell_type": "code",
   "execution_count": null,
   "id": "c20435ff-486a-4c03-9e17-25cb60f55afb",
   "metadata": {},
   "outputs": [],
   "source": [
    "Ans:-multicollinearity situation in multiple linear regression where high correlation or linear\n",
    "     relationship between two or more than two independent variable.\n",
    "    \n",
    "    Detect:-\n",
    "    i.correlation matrix\n",
    "    ii.tolerance\n",
    "    \n",
    "    Address:-\n",
    "    i.Feature Selection\n",
    "    ii.Transform Variable"
   ]
  },
  {
   "cell_type": "markdown",
   "id": "4b0b5d39-87b0-4707-b11a-ebd99021a40f",
   "metadata": {},
   "source": [
    "Q7. Describe the polynomial regression model. How is it different from linear regression?"
   ]
  },
  {
   "cell_type": "code",
   "execution_count": null,
   "id": "9b5d5e60-aef5-4b27-adca-b34d211eaa7c",
   "metadata": {},
   "outputs": [],
   "source": [
    "Ans:-polynomial regression is regression that allows non linear relationship between independent variable & dependent variable.\n",
    "ex------->y=m*x^0+m1*x1^1+m2*x2^2+m3*x3^3.......mn*xb^n.\n",
    "\n",
    " Difference form LR:-\n",
    "    i.linearity\n",
    "    ii.complexity\n",
    "    iii.overfitting"
   ]
  },
  {
   "cell_type": "markdown",
   "id": "cb2d1a46-e5c7-4f4a-bf62-2a74ef6c8b23",
   "metadata": {},
   "source": [
    "Q8. What are the advantages and disadvantages of polynomial regression compared to linear\n",
    "regression? In what situations would you prefer to use polynomial regression?"
   ]
  },
  {
   "cell_type": "code",
   "execution_count": null,
   "id": "253af7b3-1417-4fc5-92b4-fa17273f48ce",
   "metadata": {},
   "outputs": [],
   "source": [
    "Ans:-\n",
    "\n",
    "Advantages:-\n",
    "i.non-linear relationship\n",
    "ii.improved fit\n",
    "\n"
   ]
  }
 ],
 "metadata": {
  "kernelspec": {
   "display_name": "Python 3 (ipykernel)",
   "language": "python",
   "name": "python3"
  },
  "language_info": {
   "codemirror_mode": {
    "name": "ipython",
    "version": 3
   },
   "file_extension": ".py",
   "mimetype": "text/x-python",
   "name": "python",
   "nbconvert_exporter": "python",
   "pygments_lexer": "ipython3",
   "version": "3.10.8"
  }
 },
 "nbformat": 4,
 "nbformat_minor": 5
}
